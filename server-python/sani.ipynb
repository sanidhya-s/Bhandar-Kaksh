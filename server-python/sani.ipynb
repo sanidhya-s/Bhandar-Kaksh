{
 "cells": [
  {
   "cell_type": "code",
   "id": "initial_id",
   "metadata": {
    "collapsed": true
   },
   "source": [
    "import boto3 as b3\n",
    "client = b3.client('s3')"
   ],
   "outputs": [],
   "execution_count": null
  },
  {
   "metadata": {},
   "cell_type": "markdown",
   "source": "#  Generate Pre-Signed Url",
   "id": "b2641fe6141c99d0"
  },
  {
   "metadata": {},
   "cell_type": "code",
   "source": [
    "def gen_ps_url(bucket_name, object_name):\n",
    "    url = client.generate_presigned_url(ClientMethod='put_object', Params={'Bucket': bucket_name, 'Key': object_name}, ExpiresIn=3600, HttpMethod='PUT')\n",
    "    return url"
   ],
   "id": "ab8d518bf1e114f0",
   "outputs": [],
   "execution_count": null
  },
  {
   "metadata": {},
   "cell_type": "code",
   "source": "gen_ps_url('sani-store', './app.py')",
   "id": "b5a3a78499373961",
   "outputs": [],
   "execution_count": null
  },
  {
   "metadata": {},
   "cell_type": "code",
   "source": [
    "import requests\n",
    "from flask import Flask\n",
    "app = Flask(__name__)\n",
    "\n",
    "presigned_url = gen_ps_url('sani-store', 'app.py')\n",
    "\n",
    "@app.route('/upload', methods=['POST'])\n",
    "def upload_to_s3(presigned_url, file_path):\n",
    "    with open(file_path, 'rb') as file:\n",
    "        files = {'file': file}\n",
    "        response = requests.put(presigned_url, data=file)\n",
    "        return response\n",
    "\n",
    "# Example usage\n",
    "file_path = './app.py'\n",
    "response = upload_to_s3(presigned_url, file_path)\n",
    "print(\"Upload response status code:\", response.status_code)\n",
    "print(\"Upload response content:\", response.content)"
   ],
   "id": "7b50b290ccf34fcd",
   "outputs": [],
   "execution_count": null
  },
  {
   "metadata": {},
   "cell_type": "code",
   "source": "",
   "id": "81c0568512ae812f",
   "outputs": [],
   "execution_count": null
  },
  {
   "metadata": {
    "ExecuteTime": {
     "end_time": "2024-07-31T16:17:56.769735Z",
     "start_time": "2024-07-31T16:17:56.385353Z"
    }
   },
   "cell_type": "code",
   "source": [
    "from flask import Flask, request, jsonify\n",
    "import boto3\n",
    "import requests\n",
    "from threading import Thread\n",
    "\n",
    "app = Flask(__name__)\n",
    "\n",
    "def gen_ps_url(bucket_name, object_name):\n",
    "    s3_client = boto3.client('s3')\n",
    "    url = s3_client.generate_presigned_url(\n",
    "        ClientMethod='put_object',\n",
    "        Params={'Bucket': bucket_name, 'Key': object_name},\n",
    "        ExpiresIn=3600,\n",
    "        HttpMethod='PUT'\n",
    "    )\n",
    "    return url\n",
    "\n",
    "@app.route('/generate_presigned_url', methods=['POST'])\n",
    "def generate_presigned_url():\n",
    "    data = request.get_json()\n",
    "    bucket_name = data.get('bucket_name')\n",
    "    object_name = data.get('object_name')\n",
    "\n",
    "    if not bucket_name or not object_name:\n",
    "        return jsonify({\"error\": \"Bucket name and object name are required\"}), 400\n",
    "\n",
    "    url = gen_ps_url(bucket_name, object_name)\n",
    "    return jsonify({\"presigned_url\": url})\n",
    "\n",
    "@app.route('/upload_file', methods=['POST'])\n",
    "def upload_file():\n",
    "    presigned_url = request.form.get('presigned_url')\n",
    "    file = request.files['file']\n",
    "\n",
    "    if not presigned_url or not file:\n",
    "        return jsonify({\"error\": \"Presigned URL and file are required\"}), 400\n",
    "\n",
    "    response = requests.put(presigned_url, data=file)\n",
    "    if response.status_code == 200:\n",
    "        return jsonify({\"message\": \"File uploaded successfully\"}), 200\n",
    "    else:\n",
    "        return jsonify({\"error\": \"Failed to upload file\", \"details\": response.content.decode()}), response.status_code\n",
    "\n",
    "# Run the Flask app in a separate thread\n",
    "def run_flask_app():\n",
    "    app.run(debug=True, use_reloader=False)\n",
    "\n",
    "# Create and start a thread to run the Flask app\n",
    "flask_thread = Thread(target=run_flask_app)\n",
    "flask_thread.start()\n"
   ],
   "id": "13ac1aab8aa50070",
   "outputs": [],
   "execution_count": 1
  },
  {
   "metadata": {
    "ExecuteTime": {
     "end_time": "2024-07-31T16:16:35.339815Z",
     "start_time": "2024-07-31T16:16:35.335947Z"
    }
   },
   "cell_type": "code",
   "source": "",
   "id": "4937011ea4ad9a0c",
   "outputs": [],
   "execution_count": 2
  }
 ],
 "metadata": {
  "kernelspec": {
   "display_name": "Python 3",
   "language": "python",
   "name": "python3"
  },
  "language_info": {
   "codemirror_mode": {
    "name": "ipython",
    "version": 2
   },
   "file_extension": ".py",
   "mimetype": "text/x-python",
   "name": "python",
   "nbconvert_exporter": "python",
   "pygments_lexer": "ipython2",
   "version": "2.7.6"
  }
 },
 "nbformat": 4,
 "nbformat_minor": 5
}
